{
  "nbformat": 4,
  "nbformat_minor": 0,
  "metadata": {
    "colab": {
      "name": "ssd_pytorch.ipynb",
      "provenance": [],
      "collapsed_sections": [],
      "include_colab_link": true
    },
    "kernelspec": {
      "name": "python3",
      "display_name": "Python 3"
    },
    "language_info": {
      "name": "python"
    },
    "accelerator": "GPU",
    "gpuClass": "standard"
  },
  "cells": [
    {
      "cell_type": "markdown",
      "metadata": {
        "id": "view-in-github",
        "colab_type": "text"
      },
      "source": [
        "<a href=\"https://colab.research.google.com/github/ye019/SSD/blob/main/ssd_pytorch.ipynb\" target=\"_parent\"><img src=\"https://colab.research.google.com/assets/colab-badge.svg\" alt=\"Open In Colab\"/></a>"
      ]
    },
    {
      "cell_type": "code",
      "execution_count": null,
      "metadata": {
        "colab": {
          "base_uri": "https://localhost:8080/"
        },
        "id": "VtBvdDV3XZ6k",
        "outputId": "6e5853d5-3ba3-4000-de23-2093682868f9"
      },
      "outputs": [
        {
          "output_type": "stream",
          "name": "stdout",
          "text": [
            "Mounted at /content/gdrive\n"
          ]
        }
      ],
      "source": [
        "from google.colab import drive\n",
        "drive.mount('/content/gdrive')"
      ]
    },
    {
      "cell_type": "code",
      "source": [
        "%cd /content/gdrive/MyDrive"
      ],
      "metadata": {
        "colab": {
          "base_uri": "https://localhost:8080/"
        },
        "id": "vMDEcB9vXvvT",
        "outputId": "33f54e07-f9de-4f81-a232-b3406922f035"
      },
      "execution_count": null,
      "outputs": [
        {
          "output_type": "stream",
          "name": "stdout",
          "text": [
            "/content/gdrive/MyDrive\n"
          ]
        }
      ]
    },
    {
      "cell_type": "code",
      "source": [
        "# git clone\n",
        "!git clone https://github.com/sgrvinod/a-PyTorch-Tutorial-to-Object-Detection"
      ],
      "metadata": {
        "colab": {
          "base_uri": "https://localhost:8080/"
        },
        "id": "VijHDJX6X1IL",
        "outputId": "8539fd48-d165-45cf-cdcb-d3dd07091797"
      },
      "execution_count": null,
      "outputs": [
        {
          "output_type": "stream",
          "name": "stdout",
          "text": [
            "Cloning into 'a-PyTorch-Tutorial-to-Object-Detection'...\n",
            "remote: Enumerating objects: 249, done.\u001b[K\n",
            "remote: Counting objects: 100% (68/68), done.\u001b[K\n",
            "remote: Compressing objects: 100% (11/11), done.\u001b[K\n",
            "remote: Total 249 (delta 60), reused 57 (delta 57), pack-reused 181\u001b[K\n",
            "Receiving objects: 100% (249/249), 175.95 MiB | 22.88 MiB/s, done.\n",
            "Resolving deltas: 100% (118/118), done.\n",
            "Checking out files: 100% (62/62), done.\n"
          ]
        }
      ]
    },
    {
      "cell_type": "markdown",
      "source": [
        "1. data 다운로드"
      ],
      "metadata": {
        "id": "xNhdM0TnZfMq"
      }
    },
    {
      "cell_type": "code",
      "source": [
        "%cd /content/gdrive/MyDrive/a-PyTorch-Tutorial-to-Object-Detection\n",
        "!mkdir data"
      ],
      "metadata": {
        "colab": {
          "base_uri": "https://localhost:8080/"
        },
        "id": "IVrUTpaDYO6r",
        "outputId": "b82690b0-51ce-4660-e966-e3b1b62c7068"
      },
      "execution_count": null,
      "outputs": [
        {
          "output_type": "stream",
          "name": "stdout",
          "text": [
            "/content/gdrive/MyDrive/a-PyTorch-Tutorial-to-Object-Detection\n"
          ]
        }
      ]
    },
    {
      "cell_type": "code",
      "source": [
        "%cd /content/gdrive/MyDrive/a-PyTorch-Tutorial-to-Object-Detection/data\n",
        "!wget http://host.robots.ox.ac.uk/pascal/VOC/voc2012/VOCtrainval_11-May-2012.tar # VOC2012 train+val set\n",
        "\n",
        "!tar -xvf VOCtrainval_11-May-2012.tar "
      ],
      "metadata": {
        "id": "bFZ4UUu-Z94o"
      },
      "execution_count": null,
      "outputs": []
    },
    {
      "cell_type": "code",
      "source": [
        " !wget http://host.robots.ox.ac.uk/pascal/VOC/voc2007/VOCtrainval_06-Nov-2007.tar # VOC2007 train+val set\n",
        " !wget http://host.robots.ox.ac.uk/pascal/VOC/voc2007/VOCtest_06-Nov-2007.tar # VOC2007 test set\n",
        " !wget http://host.robots.ox.ac.uk/pascal/VOC/voc2007/VOCdevkit_08-Jun-2007.tar # VOC2007 devkit\n",
        "\n",
        " !tar xvf VOCtrainval_06-Nov-2007.tar  \n",
        " !tar xvf VOCtest_06-Nov-2007.tar \n",
        " !tar xvf VOCdevkit_08-Jun-2007.tar "
      ],
      "metadata": {
        "id": "1H6R8LF5jN-c"
      },
      "execution_count": null,
      "outputs": []
    },
    {
      "cell_type": "code",
      "source": [
        "%cd /content/gdrive/MyDrive/a-PyTorch-Tutorial-to-Object-Detection"
      ],
      "metadata": {
        "colab": {
          "base_uri": "https://localhost:8080/"
        },
        "id": "vnFzu8wRqxnf",
        "outputId": "afb4b82b-0256-4f23-b953-d2ffa5b737dc"
      },
      "execution_count": null,
      "outputs": [
        {
          "output_type": "stream",
          "name": "stdout",
          "text": [
            "/content/gdrive/MyDrive/a-PyTorch-Tutorial-to-Object-Detection\n"
          ]
        }
      ]
    },
    {
      "cell_type": "code",
      "source": [
        "!python create_data_lists.py #voc2007 trainval 5011 / test 4952, voc2012 train 5717 / val 5823"
      ],
      "metadata": {
        "colab": {
          "base_uri": "https://localhost:8080/"
        },
        "id": "_UJYagOmrSRq",
        "outputId": "04d85645-7836-4235-898e-0a5f4168b56b"
      },
      "execution_count": null,
      "outputs": [
        {
          "output_type": "stream",
          "name": "stdout",
          "text": [
            "\n",
            "There are 16551 training images containing a total of 49653 objects. Files have been saved to /content/gdrive/MyDrive/a-PyTorch-Tutorial-to-Object-Detection.\n",
            "\n",
            "There are 4952 test images containing a total of 14856 objects. Files have been saved to /content/gdrive/MyDrive/a-PyTorch-Tutorial-to-Object-Detection.\n"
          ]
        }
      ]
    },
    {
      "cell_type": "markdown",
      "source": [
        "2. 학습"
      ],
      "metadata": {
        "id": "xmBNpBHMqUfg"
      }
    },
    {
      "cell_type": "code",
      "source": [
        "!python train.py"
      ],
      "metadata": {
        "colab": {
          "base_uri": "https://localhost:8080/"
        },
        "id": "f6m5hLk0n8lf",
        "outputId": "44709eda-2891-425a-c6cd-743c1c2eed00"
      },
      "execution_count": null,
      "outputs": [
        {
          "output_type": "stream",
          "name": "stdout",
          "text": [
            "/usr/local/lib/python3.7/dist-packages/torchvision/models/_utils.py:209: UserWarning: The parameter 'pretrained' is deprecated since 0.13 and will be removed in 0.15, please use 'weights' instead.\n",
            "  f\"The parameter '{pretrained_param}' is deprecated since 0.13 and will be removed in 0.15, \"\n",
            "/usr/local/lib/python3.7/dist-packages/torchvision/models/_utils.py:223: UserWarning: Arguments other than a weight enum or `None` for 'weights' are deprecated since 0.13 and will be removed in 0.15. The current behavior is equivalent to passing `weights=VGG16_Weights.IMAGENET1K_V1`. You can also use `weights=VGG16_Weights.DEFAULT` to get the most up-to-date weights.\n",
            "  warnings.warn(msg)\n",
            "\n",
            "Loaded base model.\n",
            "\n",
            "/usr/local/lib/python3.7/dist-packages/torch/nn/_reduction.py:42: UserWarning: size_average and reduce args will be deprecated, please use reduction='none' instead.\n",
            "  warnings.warn(warning.format(ret))\n",
            "/usr/local/lib/python3.7/dist-packages/torch/utils/data/dataloader.py:566: UserWarning: This DataLoader will create 4 worker processes in total. Our suggested max number of worker in current system is 2, which is smaller than what this DataLoader is going to create. Please be aware that excessive worker creation might get DataLoader running slow or even freeze, lower the worker number to avoid potential slowness/freeze if necessary.\n",
            "  cpuset_checked))\n",
            "Epoch: [0][0/2069]\tBatch Time 8.298 (8.298)\tData Time 1.925 (1.925)\tLoss 23.7079 (23.7079)\t\n",
            "Epoch: [0][200/2069]\tBatch Time 0.571 (0.383)\tData Time 0.257 (0.038)\tLoss 6.7592 (10.2019)\t\n",
            "Epoch: [0][400/2069]\tBatch Time 0.347 (0.354)\tData Time 0.004 (0.020)\tLoss 5.9418 (8.2808)\t\n",
            "Epoch: [0][600/2069]\tBatch Time 0.352 (0.345)\tData Time 0.005 (0.015)\tLoss 6.0120 (7.5558)\t\n",
            "Epoch: [0][800/2069]\tBatch Time 0.344 (0.344)\tData Time 0.000 (0.015)\tLoss 5.9221 (7.1552)\t\n",
            "Epoch: [0][1000/2069]\tBatch Time 0.339 (0.342)\tData Time 0.001 (0.013)\tLoss 5.5284 (6.8875)\t\n",
            "Epoch: [0][1200/2069]\tBatch Time 0.320 (0.340)\tData Time 0.000 (0.012)\tLoss 5.7204 (6.6864)\t\n",
            "Epoch: [0][1400/2069]\tBatch Time 0.314 (0.340)\tData Time 0.002 (0.012)\tLoss 5.0459 (6.5410)\t\n",
            "Epoch: [0][1600/2069]\tBatch Time 0.361 (0.338)\tData Time 0.000 (0.011)\tLoss 5.7094 (6.4040)\t\n",
            "Epoch: [0][1800/2069]\tBatch Time 1.420 (0.339)\tData Time 1.112 (0.011)\tLoss 4.9669 (6.2951)\t\n",
            "Epoch: [0][2000/2069]\tBatch Time 0.330 (0.338)\tData Time 0.001 (0.011)\tLoss 5.2902 (6.1924)\t\n",
            "Epoch: [1][0/2069]\tBatch Time 1.696 (1.696)\tData Time 1.208 (1.208)\tLoss 5.0398 (5.0398)\t\n",
            "Epoch: [1][200/2069]\tBatch Time 0.312 (0.346)\tData Time 0.000 (0.015)\tLoss 5.6178 (5.1916)\t\n",
            "Epoch: [1][400/2069]\tBatch Time 0.330 (0.351)\tData Time 0.002 (0.018)\tLoss 5.4346 (5.1308)\t\n",
            "Epoch: [1][600/2069]\tBatch Time 0.322 (0.346)\tData Time 0.000 (0.013)\tLoss 4.5200 (5.0787)\t\n",
            "Epoch: [1][800/2069]\tBatch Time 0.329 (0.344)\tData Time 0.000 (0.011)\tLoss 4.8562 (5.0380)\t\n",
            "Epoch: [1][1000/2069]\tBatch Time 0.321 (0.345)\tData Time 0.000 (0.012)\tLoss 5.2880 (4.9999)\t\n",
            "Epoch: [1][1200/2069]\tBatch Time 0.334 (0.345)\tData Time 0.001 (0.012)\tLoss 4.7139 (4.9623)\t\n",
            "Epoch: [1][1400/2069]\tBatch Time 0.337 (0.346)\tData Time 0.005 (0.013)\tLoss 4.8817 (4.9273)\t\n",
            "Epoch: [1][1600/2069]\tBatch Time 0.343 (0.344)\tData Time 0.013 (0.012)\tLoss 4.9994 (4.8869)\t\n",
            "Epoch: [1][1800/2069]\tBatch Time 0.338 (0.343)\tData Time 0.005 (0.011)\tLoss 4.2165 (4.8494)\t\n",
            "Epoch: [1][2000/2069]\tBatch Time 0.329 (0.344)\tData Time 0.005 (0.012)\tLoss 4.2026 (4.8139)\t\n",
            "Epoch: [2][0/2069]\tBatch Time 1.426 (1.426)\tData Time 1.026 (1.026)\tLoss 4.1816 (4.1816)\t\n",
            "Epoch: [2][200/2069]\tBatch Time 0.365 (0.347)\tData Time 0.000 (0.016)\tLoss 4.0262 (4.4206)\t\n",
            "Epoch: [2][400/2069]\tBatch Time 0.340 (0.343)\tData Time 0.004 (0.013)\tLoss 4.5764 (4.4089)\t\n",
            "Epoch: [2][600/2069]\tBatch Time 0.328 (0.350)\tData Time 0.004 (0.018)\tLoss 4.1352 (4.4162)\t\n",
            "Epoch: [2][800/2069]\tBatch Time 0.326 (0.347)\tData Time 0.002 (0.016)\tLoss 4.2191 (4.3746)\t\n",
            "Epoch: [2][1000/2069]\tBatch Time 0.329 (0.350)\tData Time 0.000 (0.018)\tLoss 4.7822 (4.3578)\t\n",
            "Epoch: [2][1200/2069]\tBatch Time 0.328 (0.348)\tData Time 0.006 (0.016)\tLoss 4.9784 (4.3362)\t\n",
            "Epoch: [2][1400/2069]\tBatch Time 0.338 (0.349)\tData Time 0.000 (0.017)\tLoss 4.0071 (4.3137)\t\n",
            "Epoch: [2][1600/2069]\tBatch Time 0.315 (0.349)\tData Time 0.000 (0.017)\tLoss 3.8943 (4.2889)\t\n",
            "Epoch: [2][1800/2069]\tBatch Time 0.309 (0.348)\tData Time 0.000 (0.016)\tLoss 4.4846 (4.2724)\t\n",
            "Epoch: [2][2000/2069]\tBatch Time 0.321 (0.347)\tData Time 0.000 (0.015)\tLoss 3.9148 (4.2553)\t\n",
            "Epoch: [3][0/2069]\tBatch Time 1.485 (1.485)\tData Time 1.079 (1.079)\tLoss 3.9795 (3.9795)\t\n",
            "Epoch: [3][200/2069]\tBatch Time 0.343 (0.357)\tData Time 0.000 (0.023)\tLoss 4.0429 (4.0637)\t\n",
            "Epoch: [3][400/2069]\tBatch Time 0.332 (0.347)\tData Time 0.000 (0.014)\tLoss 4.2984 (4.0395)\t\n",
            "Epoch: [3][600/2069]\tBatch Time 0.386 (0.348)\tData Time 0.003 (0.015)\tLoss 4.5566 (4.0252)\t\n",
            "Epoch: [3][800/2069]\tBatch Time 0.322 (0.347)\tData Time 0.008 (0.014)\tLoss 4.1557 (4.0075)\t\n",
            "Epoch: [3][1000/2069]\tBatch Time 0.354 (0.344)\tData Time 0.002 (0.012)\tLoss 3.9871 (3.9991)\t\n",
            "Epoch: [3][1200/2069]\tBatch Time 0.334 (0.345)\tData Time 0.006 (0.013)\tLoss 2.9891 (3.9795)\t\n",
            "Epoch: [3][1400/2069]\tBatch Time 0.346 (0.344)\tData Time 0.002 (0.012)\tLoss 4.4697 (3.9692)\t\n",
            "Epoch: [3][1600/2069]\tBatch Time 0.340 (0.344)\tData Time 0.000 (0.012)\tLoss 4.9463 (3.9539)\t\n",
            "Epoch: [3][1800/2069]\tBatch Time 0.398 (0.344)\tData Time 0.084 (0.012)\tLoss 3.8571 (3.9482)\t\n",
            "Epoch: [3][2000/2069]\tBatch Time 0.333 (0.343)\tData Time 0.002 (0.012)\tLoss 4.0346 (3.9401)\t\n",
            "Epoch: [4][0/2069]\tBatch Time 2.160 (2.160)\tData Time 1.773 (1.773)\tLoss 4.1579 (4.1579)\t\n",
            "Epoch: [4][200/2069]\tBatch Time 0.338 (0.351)\tData Time 0.001 (0.018)\tLoss 3.7018 (3.7993)\t\n",
            "Epoch: [4][400/2069]\tBatch Time 0.335 (0.352)\tData Time 0.004 (0.018)\tLoss 3.9425 (3.7834)\t\n",
            "Epoch: [4][600/2069]\tBatch Time 0.336 (0.347)\tData Time 0.000 (0.014)\tLoss 4.3908 (3.7859)\t\n",
            "Epoch: [4][800/2069]\tBatch Time 0.378 (0.345)\tData Time 0.004 (0.013)\tLoss 3.4305 (3.7726)\t\n",
            "Epoch: [4][1000/2069]\tBatch Time 0.318 (0.349)\tData Time 0.007 (0.016)\tLoss 3.5326 (3.7789)\t\n",
            "Epoch: [4][1200/2069]\tBatch Time 0.349 (0.347)\tData Time 0.000 (0.015)\tLoss 4.5969 (3.7800)\t\n",
            "Epoch: [4][1400/2069]\tBatch Time 0.380 (0.349)\tData Time 0.005 (0.016)\tLoss 3.4380 (3.7720)\t\n",
            "Epoch: [4][1600/2069]\tBatch Time 0.343 (0.347)\tData Time 0.001 (0.015)\tLoss 3.9948 (3.7569)\t\n",
            "Epoch: [4][1800/2069]\tBatch Time 0.346 (0.347)\tData Time 0.001 (0.015)\tLoss 3.3806 (3.7556)\t\n",
            "Epoch: [4][2000/2069]\tBatch Time 0.351 (0.347)\tData Time 0.000 (0.015)\tLoss 3.5197 (3.7531)\t\n",
            "Epoch: [5][0/2069]\tBatch Time 1.928 (1.928)\tData Time 1.493 (1.493)\tLoss 3.6320 (3.6320)\t\n",
            "Epoch: [5][200/2069]\tBatch Time 0.344 (0.347)\tData Time 0.000 (0.017)\tLoss 3.7298 (3.6528)\t\n",
            "Epoch: [5][400/2069]\tBatch Time 0.329 (0.345)\tData Time 0.000 (0.014)\tLoss 3.7870 (3.6680)\t\n",
            "Epoch: [5][600/2069]\tBatch Time 0.333 (0.345)\tData Time 0.000 (0.014)\tLoss 3.7513 (3.6649)\t\n",
            "Epoch: [5][800/2069]\tBatch Time 0.330 (0.342)\tData Time 0.008 (0.012)\tLoss 4.2277 (3.6568)\t\n",
            "Epoch: [5][1000/2069]\tBatch Time 0.300 (0.340)\tData Time 0.001 (0.010)\tLoss 4.0538 (3.6476)\t\n",
            "Epoch: [5][1200/2069]\tBatch Time 0.358 (0.342)\tData Time 0.000 (0.012)\tLoss 4.4453 (3.6507)\t\n",
            "Epoch: [5][1400/2069]\tBatch Time 0.331 (0.341)\tData Time 0.009 (0.011)\tLoss 3.2508 (3.6497)\t\n",
            "Epoch: [5][1600/2069]\tBatch Time 0.373 (0.340)\tData Time 0.001 (0.010)\tLoss 3.4908 (3.6368)\t\n",
            "Epoch: [5][1800/2069]\tBatch Time 0.315 (0.341)\tData Time 0.004 (0.011)\tLoss 3.8964 (3.6310)\t\n",
            "Epoch: [5][2000/2069]\tBatch Time 0.355 (0.341)\tData Time 0.008 (0.011)\tLoss 2.8507 (3.6276)\t\n",
            "Epoch: [6][0/2069]\tBatch Time 1.818 (1.818)\tData Time 1.396 (1.396)\tLoss 3.1581 (3.1581)\t\n",
            "Epoch: [6][200/2069]\tBatch Time 0.356 (0.354)\tData Time 0.000 (0.020)\tLoss 4.7131 (3.4836)\t\n",
            "Epoch: [6][400/2069]\tBatch Time 0.327 (0.342)\tData Time 0.005 (0.011)\tLoss 2.3316 (3.4960)\t\n",
            "Epoch: [6][600/2069]\tBatch Time 0.307 (0.339)\tData Time 0.000 (0.009)\tLoss 3.2070 (3.4901)\t\n",
            "Epoch: [6][800/2069]\tBatch Time 0.315 (0.344)\tData Time 0.000 (0.013)\tLoss 4.2621 (3.5099)\t\n",
            "Epoch: [6][1000/2069]\tBatch Time 0.330 (0.342)\tData Time 0.000 (0.011)\tLoss 3.4512 (3.5219)\t\n",
            "Epoch: [6][1200/2069]\tBatch Time 0.320 (0.340)\tData Time 0.000 (0.009)\tLoss 3.3490 (3.5187)\t\n",
            "Epoch: [6][1400/2069]\tBatch Time 0.322 (0.342)\tData Time 0.000 (0.010)\tLoss 4.2243 (3.5089)\t\n",
            "Epoch: [6][1600/2069]\tBatch Time 0.335 (0.341)\tData Time 0.000 (0.010)\tLoss 3.7689 (3.5068)\t\n",
            "Epoch: [6][1800/2069]\tBatch Time 0.340 (0.340)\tData Time 0.000 (0.009)\tLoss 3.8552 (3.5025)\t\n",
            "Epoch: [6][2000/2069]\tBatch Time 0.323 (0.341)\tData Time 0.000 (0.010)\tLoss 2.8380 (3.4994)\t\n",
            "Epoch: [7][0/2069]\tBatch Time 1.547 (1.547)\tData Time 1.125 (1.125)\tLoss 3.3587 (3.3587)\t\n",
            "Epoch: [7][200/2069]\tBatch Time 0.337 (0.347)\tData Time 0.002 (0.015)\tLoss 3.4270 (3.4054)\t\n",
            "Epoch: [7][400/2069]\tBatch Time 0.349 (0.352)\tData Time 0.000 (0.019)\tLoss 3.1850 (3.4251)\t\n",
            "Epoch: [7][600/2069]\tBatch Time 0.331 (0.350)\tData Time 0.000 (0.018)\tLoss 3.7327 (3.4485)\t\n",
            "Epoch: [7][800/2069]\tBatch Time 0.335 (0.346)\tData Time 0.011 (0.015)\tLoss 3.3633 (3.4579)\t\n",
            "Epoch: [7][1000/2069]\tBatch Time 0.348 (0.347)\tData Time 0.000 (0.015)\tLoss 3.8883 (3.4529)\t\n",
            "Epoch: [7][1200/2069]\tBatch Time 0.327 (0.346)\tData Time 0.001 (0.014)\tLoss 3.1619 (3.4475)\t\n",
            "Epoch: [7][1400/2069]\tBatch Time 0.331 (0.344)\tData Time 0.000 (0.012)\tLoss 2.3175 (3.4374)\t\n",
            "Epoch: [7][1600/2069]\tBatch Time 0.339 (0.342)\tData Time 0.000 (0.011)\tLoss 3.8050 (3.4392)\t\n",
            "Epoch: [7][1800/2069]\tBatch Time 0.331 (0.343)\tData Time 0.000 (0.012)\tLoss 3.5390 (3.4400)\t\n",
            "Epoch: [7][2000/2069]\tBatch Time 0.330 (0.343)\tData Time 0.000 (0.011)\tLoss 3.3180 (3.4396)\t\n",
            "Epoch: [8][0/2069]\tBatch Time 1.604 (1.604)\tData Time 1.192 (1.192)\tLoss 2.9146 (2.9146)\t\n",
            "Epoch: [8][200/2069]\tBatch Time 0.354 (0.356)\tData Time 0.000 (0.021)\tLoss 4.3640 (3.4231)\t\n",
            "Epoch: [8][400/2069]\tBatch Time 0.338 (0.344)\tData Time 0.001 (0.012)\tLoss 3.6800 (3.3973)\t\n",
            "Epoch: [8][600/2069]\tBatch Time 0.330 (0.342)\tData Time 0.000 (0.010)\tLoss 4.6508 (3.3837)\t\n",
            "Epoch: [8][800/2069]\tBatch Time 0.325 (0.343)\tData Time 0.001 (0.011)\tLoss 2.8730 (3.3742)\t\n",
            "Epoch: [8][1000/2069]\tBatch Time 0.350 (0.342)\tData Time 0.000 (0.010)\tLoss 3.5565 (3.3755)\t\n",
            "Epoch: [8][1200/2069]\tBatch Time 0.317 (0.340)\tData Time 0.001 (0.009)\tLoss 3.7984 (3.3719)\t\n",
            "Epoch: [8][1400/2069]\tBatch Time 0.326 (0.343)\tData Time 0.003 (0.011)\tLoss 3.3479 (3.3674)\t\n",
            "Epoch: [8][1600/2069]\tBatch Time 0.346 (0.342)\tData Time 0.003 (0.011)\tLoss 2.6224 (3.3605)\t\n",
            "Epoch: [8][1800/2069]\tBatch Time 0.327 (0.341)\tData Time 0.003 (0.010)\tLoss 3.2859 (3.3603)\t\n",
            "Epoch: [8][2000/2069]\tBatch Time 0.320 (0.342)\tData Time 0.000 (0.011)\tLoss 3.3238 (3.3617)\t\n",
            "Epoch: [9][0/2069]\tBatch Time 1.943 (1.943)\tData Time 1.562 (1.562)\tLoss 3.2308 (3.2308)\t\n",
            "Epoch: [9][200/2069]\tBatch Time 0.357 (0.350)\tData Time 0.003 (0.017)\tLoss 3.8335 (3.3486)\t\n",
            "Epoch: [9][400/2069]\tBatch Time 0.336 (0.342)\tData Time 0.000 (0.010)\tLoss 3.5533 (3.2968)\t\n",
            "Epoch: [9][600/2069]\tBatch Time 0.332 (0.345)\tData Time 0.000 (0.012)\tLoss 4.0233 (3.3080)\t\n",
            "Epoch: [9][800/2069]\tBatch Time 0.333 (0.341)\tData Time 0.000 (0.010)\tLoss 4.3724 (3.3044)\t\n",
            "Epoch: [9][1000/2069]\tBatch Time 0.337 (0.341)\tData Time 0.020 (0.010)\tLoss 3.4158 (3.3019)\t\n",
            "Epoch: [9][1200/2069]\tBatch Time 0.332 (0.342)\tData Time 0.000 (0.010)\tLoss 3.9456 (3.3044)\t\n",
            "Epoch: [9][1400/2069]\tBatch Time 0.331 (0.341)\tData Time 0.004 (0.010)\tLoss 3.6454 (3.3011)\t\n",
            "Epoch: [9][1600/2069]\tBatch Time 0.364 (0.341)\tData Time 0.000 (0.009)\tLoss 3.6553 (3.3022)\t\n",
            "Epoch: [9][1800/2069]\tBatch Time 0.331 (0.343)\tData Time 0.003 (0.011)\tLoss 4.1526 (3.3003)\t\n",
            "Epoch: [9][2000/2069]\tBatch Time 0.349 (0.342)\tData Time 0.002 (0.011)\tLoss 2.9559 (3.2983)\t\n",
            "Epoch: [10][0/2069]\tBatch Time 1.776 (1.776)\tData Time 1.387 (1.387)\tLoss 3.3203 (3.3203)\t\n",
            "Epoch: [10][200/2069]\tBatch Time 0.334 (0.342)\tData Time 0.000 (0.012)\tLoss 2.5105 (3.2476)\t\n",
            "Epoch: [10][400/2069]\tBatch Time 0.339 (0.346)\tData Time 0.006 (0.014)\tLoss 2.8958 (3.2332)\t\n",
            "Epoch: [10][600/2069]\tBatch Time 0.313 (0.345)\tData Time 0.002 (0.014)\tLoss 3.5272 (3.2411)\t\n",
            "Epoch: [10][800/2069]\tBatch Time 0.320 (0.343)\tData Time 0.009 (0.012)\tLoss 3.9137 (3.2433)\t\n",
            "Epoch: [10][1000/2069]\tBatch Time 0.338 (0.344)\tData Time 0.000 (0.012)\tLoss 3.6479 (3.2479)\t\n",
            "Epoch: [10][1200/2069]\tBatch Time 0.344 (0.343)\tData Time 0.004 (0.012)\tLoss 3.2999 (3.2600)\t\n",
            "Epoch: [10][1400/2069]\tBatch Time 0.328 (0.343)\tData Time 0.003 (0.012)\tLoss 4.1611 (3.2597)\t\n",
            "Epoch: [10][1600/2069]\tBatch Time 0.367 (0.345)\tData Time 0.001 (0.013)\tLoss 3.5067 (3.2556)\t\n",
            "Epoch: [10][1800/2069]\tBatch Time 0.484 (0.344)\tData Time 0.172 (0.013)\tLoss 3.6144 (3.2630)\t\n",
            "Epoch: [10][2000/2069]\tBatch Time 0.310 (0.344)\tData Time 0.000 (0.012)\tLoss 3.4514 (3.2650)\t\n"
          ]
        }
      ]
    },
    {
      "cell_type": "code",
      "source": [
        "!python eval.py"
      ],
      "metadata": {
        "id": "isw2MMhNqZnM",
        "outputId": "1fac60e8-73e7-4c64-dc7f-ec66d94a11d9",
        "colab": {
          "base_uri": "https://localhost:8080/"
        }
      },
      "execution_count": null,
      "outputs": [
        {
          "output_type": "stream",
          "name": "stdout",
          "text": [
            "/usr/local/lib/python3.7/dist-packages/torch/utils/data/dataloader.py:566: UserWarning: This DataLoader will create 4 worker processes in total. Our suggested max number of worker in current system is 2, which is smaller than what this DataLoader is going to create. Please be aware that excessive worker creation might get DataLoader running slow or even freeze, lower the worker number to avoid potential slowness/freeze if necessary.\n",
            "  cpuset_checked))\n",
            "\rEvaluating:   0% 0/78 [00:00<?, ?it/s]/content/gdrive/MyDrive/a-PyTorch-Tutorial-to-Object-Detection/model.py:501: UserWarning: indexing with dtype torch.uint8 is now deprecated, please use a dtype torch.bool instead. (Triggered internally at  ../aten/src/ATen/native/IndexingUtils.h:27.)\n",
            "  image_boxes.append(class_decoded_locs[1 - suppress])\n",
            "/content/gdrive/MyDrive/a-PyTorch-Tutorial-to-Object-Detection/model.py:503: UserWarning: indexing with dtype torch.uint8 is now deprecated, please use a dtype torch.bool instead. (Triggered internally at  ../aten/src/ATen/native/IndexingUtils.h:27.)\n",
            "  image_scores.append(class_scores[1 - suppress])\n",
            "Evaluating: 100% 78/78 [14:27<00:00, 11.12s/it]\n",
            "{'aeroplane': 0.7112380266189575,\n",
            " 'bicycle': 0.7238768339157104,\n",
            " 'bird': 0.5709900259971619,\n",
            " 'boat': 0.500001072883606,\n",
            " 'bottle': 0.24317936599254608,\n",
            " 'bus': 0.7450001835823059,\n",
            " 'car': 0.7572970390319824,\n",
            " 'cat': 0.7948819398880005,\n",
            " 'chair': 0.347189337015152,\n",
            " 'cow': 0.6510341167449951,\n",
            " 'diningtable': 0.5842664241790771,\n",
            " 'dog': 0.7830028533935547,\n",
            " 'horse': 0.7862477898597717,\n",
            " 'motorbike': 0.7093856930732727,\n",
            " 'person': 0.6698961853981018,\n",
            " 'pottedplant': 0.2738218307495117,\n",
            " 'sheep': 0.6091665029525757,\n",
            " 'sofa': 0.6304092407226562,\n",
            " 'train': 0.7608102560043335,\n",
            " 'tvmonitor': 0.6152188777923584}\n",
            "\n",
            "Mean Average Precision (mAP): 0.623\n"
          ]
        }
      ]
    }
  ]
}